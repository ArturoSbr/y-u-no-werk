{
 "cells": [
  {
   "cell_type": "markdown",
   "id": "14b4581e",
   "metadata": {},
   "source": [
    "Libraries"
   ]
  },
  {
   "cell_type": "code",
   "execution_count": 1,
   "id": "14a01939",
   "metadata": {},
   "outputs": [],
   "source": [
    "import pandas as pd\n",
    "from statsmodels.api import OLS"
   ]
  },
  {
   "cell_type": "markdown",
   "id": "194de49f",
   "metadata": {},
   "source": [
    "Load data"
   ]
  },
  {
   "cell_type": "code",
   "execution_count": 2,
   "id": "ce3cfa3d",
   "metadata": {},
   "outputs": [
    {
     "data": {
      "text/html": [
       "<div>\n",
       "<style scoped>\n",
       "    .dataframe tbody tr th:only-of-type {\n",
       "        vertical-align: middle;\n",
       "    }\n",
       "\n",
       "    .dataframe tbody tr th {\n",
       "        vertical-align: top;\n",
       "    }\n",
       "\n",
       "    .dataframe thead th {\n",
       "        text-align: right;\n",
       "    }\n",
       "</style>\n",
       "<table border=\"1\" class=\"dataframe\">\n",
       "  <thead>\n",
       "    <tr style=\"text-align: right;\">\n",
       "      <th></th>\n",
       "      <th>Y</th>\n",
       "      <th>CONST</th>\n",
       "      <th>T</th>\n",
       "      <th>X1</th>\n",
       "      <th>X1T</th>\n",
       "      <th>X2</th>\n",
       "      <th>X2T</th>\n",
       "    </tr>\n",
       "  </thead>\n",
       "  <tbody>\n",
       "    <tr>\n",
       "      <th>0</th>\n",
       "      <td>2.312519</td>\n",
       "      <td>1</td>\n",
       "      <td>1</td>\n",
       "      <td>0</td>\n",
       "      <td>0</td>\n",
       "      <td>1</td>\n",
       "      <td>1</td>\n",
       "    </tr>\n",
       "    <tr>\n",
       "      <th>1</th>\n",
       "      <td>-0.836074</td>\n",
       "      <td>1</td>\n",
       "      <td>1</td>\n",
       "      <td>1</td>\n",
       "      <td>1</td>\n",
       "      <td>1</td>\n",
       "      <td>1</td>\n",
       "    </tr>\n",
       "    <tr>\n",
       "      <th>2</th>\n",
       "      <td>-0.797183</td>\n",
       "      <td>1</td>\n",
       "      <td>0</td>\n",
       "      <td>0</td>\n",
       "      <td>0</td>\n",
       "      <td>1</td>\n",
       "      <td>0</td>\n",
       "    </tr>\n",
       "    <tr>\n",
       "      <th>3</th>\n",
       "      <td>-0.157588</td>\n",
       "      <td>1</td>\n",
       "      <td>0</td>\n",
       "      <td>0</td>\n",
       "      <td>0</td>\n",
       "      <td>1</td>\n",
       "      <td>0</td>\n",
       "    </tr>\n",
       "    <tr>\n",
       "      <th>4</th>\n",
       "      <td>-0.109480</td>\n",
       "      <td>1</td>\n",
       "      <td>0</td>\n",
       "      <td>0</td>\n",
       "      <td>0</td>\n",
       "      <td>1</td>\n",
       "      <td>0</td>\n",
       "    </tr>\n",
       "  </tbody>\n",
       "</table>\n",
       "</div>"
      ],
      "text/plain": [
       "          Y  CONST  T  X1  X1T  X2  X2T\n",
       "0  2.312519      1  1   0    0   1    1\n",
       "1 -0.836074      1  1   1    1   1    1\n",
       "2 -0.797183      1  0   0    0   1    0\n",
       "3 -0.157588      1  0   0    0   1    0\n",
       "4 -0.109480      1  0   0    0   1    0"
      ]
     },
     "execution_count": 2,
     "metadata": {},
     "output_type": "execute_result"
    }
   ],
   "source": [
    "df = pd.read_csv('data.csv')\n",
    "df.head()"
   ]
  },
  {
   "cell_type": "markdown",
   "id": "589b1350",
   "metadata": {},
   "source": [
    "Difference in means between `T == 1` and `T == 0` for all four combinations of `X1` and `X2`"
   ]
  },
  {
   "cell_type": "code",
   "execution_count": 3,
   "id": "06cc039c",
   "metadata": {},
   "outputs": [
    {
     "data": {
      "text/plain": [
       "X1  X2\n",
       "0   0     0.116175\n",
       "    1     0.168791\n",
       "1   0    -0.027278\n",
       "    1    -0.147601\n",
       "dtype: float64"
      ]
     },
     "execution_count": 3,
     "metadata": {},
     "output_type": "execute_result"
    }
   ],
   "source": [
    "# Grouped means\n",
    "t = df.groupby(['T','X1','X2'])['Y'].mean().reset_index()\n",
    "\n",
    "# Reshape result\n",
    "t = t.pivot(index=['X1','X2'], columns='T', values='Y')\n",
    "\n",
    "# Rename columns\n",
    "t.columns = ['Teq0','Teq1']\n",
    "\n",
    "# Desired result\n",
    "t['Teq1'] - t['Teq0']"
   ]
  },
  {
   "cell_type": "markdown",
   "id": "dbc57c1d",
   "metadata": {},
   "source": [
    "Try to replicate these results using linear regression"
   ]
  },
  {
   "cell_type": "code",
   "execution_count": 4,
   "id": "0161bed9",
   "metadata": {},
   "outputs": [
    {
     "data": {
      "text/plain": [
       "T      0.162198\n",
       "X1T   -0.230372\n",
       "X2T   -0.034303\n",
       "dtype: float64"
      ]
     },
     "execution_count": 4,
     "metadata": {},
     "output_type": "execute_result"
    }
   ],
   "source": [
    "# Libraries\n",
    "from statsmodels.api import OLS\n",
    "\n",
    "# Fit regression with interaction terms\n",
    "m = OLS(endog=df['Y'], exog=df[['CONST','T','X1','X1T','X2','X2T']]).fit()\n",
    "\n",
    "# Estimated values\n",
    "m.params[['T','X1T','X2T']]"
   ]
  },
  {
   "cell_type": "markdown",
   "id": "def3fc87",
   "metadata": {},
   "source": [
    "Why don't the estimated coefficients match???"
   ]
  }
 ],
 "metadata": {
  "kernelspec": {
   "display_name": "Python 3",
   "language": "python",
   "name": "python3"
  },
  "language_info": {
   "codemirror_mode": {
    "name": "ipython",
    "version": 3
   },
   "file_extension": ".py",
   "mimetype": "text/x-python",
   "name": "python",
   "nbconvert_exporter": "python",
   "pygments_lexer": "ipython3",
   "version": "3.8.8"
  }
 },
 "nbformat": 4,
 "nbformat_minor": 5
}
